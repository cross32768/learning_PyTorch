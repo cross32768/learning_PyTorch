{
 "cells": [
  {
   "cell_type": "code",
   "execution_count": 11,
   "metadata": {},
   "outputs": [
    {
     "name": "stdout",
     "output_type": "stream",
     "text": [
      "PyTorch version: 0.4.1\n",
      "torchvision version: 0.2.1\n",
      "Is GPU available: True\n"
     ]
    }
   ],
   "source": [
    "import numpy as np\n",
    "import matplotlib.pyplot as plt\n",
    "import os\n",
    "\n",
    "import torch\n",
    "import torchvision\n",
    "from torch import nn, optim\n",
    "from torch.autograd import Variable as V\n",
    "from torch.nn import functional as F\n",
    "from torch.utils.data import DataLoader\n",
    "from torchvision import datasets, transforms\n",
    "from torchvision.utils import make_grid\n",
    "print('PyTorch version:', torch.__version__)\n",
    "print('torchvision version:', torchvision.__version__)\n",
    "print('Is GPU available:', torch.cuda.is_available())"
   ]
  },
  {
   "cell_type": "code",
   "execution_count": 59,
   "metadata": {},
   "outputs": [],
   "source": [
    "# hyperparameters\n",
    "n_epochs = 10\n",
    "batchsize = 128\n",
    "learning_rate = 0.001\n",
    "use_gpu = torch.cuda.is_available()"
   ]
  },
  {
   "cell_type": "code",
   "execution_count": 39,
   "metadata": {},
   "outputs": [
    {
     "name": "stdout",
     "output_type": "stream",
     "text": [
      "train_data: 60000\n",
      "validation_data: 10000\n"
     ]
    }
   ],
   "source": [
    "# データセットの読み込み、正規化、ミニバッチSGDのためのデータローダーの作成\n",
    "tf = transforms.Compose([transforms.ToTensor(), transforms.Normalize((0.5, 0.5, 0.5), (0.5, 0.5, 0.5))])\n",
    "\n",
    "mnist_train = datasets.MNIST(root = './data',\n",
    "                             train = True,\n",
    "                             transform = tf,\n",
    "                             download = True)\n",
    "mnist_valid = datasets.MNIST(root = './data',\n",
    "                            train = False,\n",
    "                            transform = tf)\n",
    "mnist_train_loader = DataLoader(mnist_train, batch_size = batchsize, shuffle = True, num_workers = 4)\n",
    "mnist_valid_loader = DataLoader(mnist_valid, batch_size = batchsize, shuffle = False, num_workers = 4)\n",
    "classes = {}\n",
    "print('train_data:', len(mnist_train))\n",
    "print('validation_data:', len(mnist_valid))"
   ]
  },
  {
   "cell_type": "code",
   "execution_count": 40,
   "metadata": {},
   "outputs": [
    {
     "name": "stdout",
     "output_type": "stream",
     "text": [
      "tensor([[0, 6, 8, 2, 1],\n",
      "        [8, 0, 2, 6, 1],\n",
      "        [1, 7, 2, 3, 0],\n",
      "        [8, 8, 3, 3, 7],\n",
      "        [9, 5, 6, 5, 5]])\n"
     ]
    },
    {
     "data": {
      "image/png": "[encoded data removed]",
      "text/plain": [
       "<Figure size 432x288 with 1 Axes>"
      ]
     },
     "metadata": {},
     "output_type": "display_data"
    }
   ],
   "source": [
    "# データの可視化\n",
    "def imshow(img):\n",
    "    npimg = img.numpy() * 0.5 + 0.5\n",
    "    plt.imshow(np.transpose(npimg, (1, 2, 0)))\n",
    "n_show = 25\n",
    "n_row = 5\n",
    "images, labels = iter(mnist_train_loader).next()\n",
    "images, labels = images[:n_show], labels[:n_show]\n",
    "imshow(make_grid(images, nrow = n_row, padding = 1))\n",
    "plt.axis('off')\n",
    "print(labels.view(-1, n_row))"
   ]
  },
  {
   "cell_type": "code",
   "execution_count": 41,
   "metadata": {},
   "outputs": [],
   "source": [
    "# 畳み込みニューラルネットワーク（MNIST用）\n",
    "class CNN_MNIST(nn.Module):\n",
    "    def __init__(self):\n",
    "        super(CNN_MNIST, self).__init__()\n",
    "        self.layers1 = nn.Sequential(\n",
    "            nn.Conv2d(1, 8, kernel_size = 5, padding = 2),\n",
    "            nn.BatchNorm2d(8),\n",
    "            nn.ReLU(),\n",
    "            nn.MaxPool2d(kernel_size = 2, stride = 2)\n",
    "        )\n",
    "        self.layers2 = nn.Sequential(\n",
    "            nn.Conv2d(8, 16, kernel_size = 5, padding = 2),\n",
    "            nn.BatchNorm2d(16),\n",
    "            nn.ReLU(),\n",
    "            nn.MaxPool2d(kernel_size = 2, stride = 2)\n",
    "        )\n",
    "        \n",
    "        self.fc = nn.Linear(7 * 7 * 16, 10)\n",
    "        \n",
    "    def forward(self, x):\n",
    "        out = self.layers1(x)\n",
    "        out = self.layers2(out)\n",
    "        out = out.view(out.size()[0], -1)\n",
    "        out = self.fc(out)\n",
    "        return out"
   ]
  },
  {
   "cell_type": "code",
   "execution_count": 42,
   "metadata": {},
   "outputs": [
    {
     "name": "stdout",
     "output_type": "stream",
     "text": [
      "Model:\n",
      " CNN_MNIST(\n",
      "  (layers1): Sequential(\n",
      "    (0): Conv2d(1, 8, kernel_size=(5, 5), stride=(1, 1), padding=(2, 2))\n",
      "    (1): BatchNorm2d(8, eps=1e-05, momentum=0.1, affine=True, track_running_stats=True)\n",
      "    (2): ReLU()\n",
      "    (3): MaxPool2d(kernel_size=2, stride=2, padding=0, dilation=1, ceil_mode=False)\n",
      "  )\n",
      "  (layers2): Sequential(\n",
      "    (0): Conv2d(8, 16, kernel_size=(5, 5), stride=(1, 1), padding=(2, 2))\n",
      "    (1): BatchNorm2d(16, eps=1e-05, momentum=0.1, affine=True, track_running_stats=True)\n",
      "    (2): ReLU()\n",
      "    (3): MaxPool2d(kernel_size=2, stride=2, padding=0, dilation=1, ceil_mode=False)\n",
      "  )\n",
      "  (fc): Linear(in_features=784, out_features=10, bias=True)\n",
      ")\n",
      "\n",
      "Loss function:\n",
      " CrossEntropyLoss()\n",
      "\n",
      "Optimizer:\n",
      " Adam (\n",
      "Parameter Group 0\n",
      "    amsgrad: False\n",
      "    betas: (0.9, 0.999)\n",
      "    eps: 1e-08\n",
      "    lr: 0.001\n",
      "    weight_decay: 0\n",
      ")\n"
     ]
    }
   ],
   "source": [
    "# ネットワークを実体化、ロス関数とオプティマイザの定義\n",
    "net = CNN_MNIST()\n",
    "if use_gpu:\n",
    "    net.cuda()\n",
    "    \n",
    "loss_fn = nn.CrossEntropyLoss()\n",
    "optimizer = optim.Adam(net.parameters(), lr = learning_rate)\n",
    "\n",
    "# モデルの構造、ロス関数、オプティマイザの表示\n",
    "print('Model:\\n', net)\n",
    "print('\\nLoss function:\\n', loss_fn)\n",
    "print('\\nOptimizer:\\n', optimizer)"
   ]
  },
  {
   "cell_type": "code",
   "execution_count": 43,
   "metadata": {},
   "outputs": [],
   "source": [
    "# 学習を行う関数\n",
    "def train(train_loader):\n",
    "    net.train()\n",
    "    running_loss = 0\n",
    "    for inputs, targets in train_loader:\n",
    "        if use_gpu:\n",
    "            inputs = V(inputs.cuda())\n",
    "            targets = V(targets.cuda())\n",
    "        else:\n",
    "            inputs = V(inputs)\n",
    "            targets = V(targets)\n",
    "            \n",
    "        outputs = net(inputs)\n",
    "        loss = loss_fn(outputs, targets)\n",
    "        \n",
    "        optimizer.zero_grad()\n",
    "        loss.backward()\n",
    "        optimizer.step()\n",
    "        \n",
    "        running_loss += loss.data.item()\n",
    "    \n",
    "    train_loss = running_loss / len(train_loader)\n",
    "    return train_loss"
   ]
  },
  {
   "cell_type": "code",
   "execution_count": 44,
   "metadata": {},
   "outputs": [],
   "source": [
    "# バリデーションを行う関数\n",
    "def valid(test_loader):\n",
    "    net.eval()\n",
    "    running_loss = 0\n",
    "    correct = 0\n",
    "    total = 0\n",
    "    for (inputs, targets) in test_loader:\n",
    "        with torch.no_grad():\n",
    "            if use_gpu:\n",
    "                inputs = V(inputs.cuda())\n",
    "                targets = V(targets.cuda())\n",
    "            else:\n",
    "                inputs = V(inputs)\n",
    "                targets = V(targets)\n",
    "            \n",
    "            outputs = net(inputs)\n",
    "            loss = loss_fn(outputs, targets)\n",
    "            \n",
    "        running_loss += loss.data.item()\n",
    "        _, preds = torch.max(outputs.data, 1)\n",
    "        correct += (preds == targets).float().sum()\n",
    "        total += targets.size(0)\n",
    "\n",
    "    val_loss = running_loss / len(test_loader)\n",
    "    val_acc = correct / total\n",
    "    return val_loss, val_acc"
   ]
  },
  {
   "cell_type": "code",
   "execution_count": 45,
   "metadata": {},
   "outputs": [
    {
     "name": "stdout",
     "output_type": "stream",
     "text": [
      "epoch[1/10], loss:0.1883 val_loss:0.0560 val_acc:0.9826\n",
      "epoch[2/10], loss:0.0581 val_loss:0.0527 val_acc:0.9812\n",
      "epoch[3/10], loss:0.0443 val_loss:0.0390 val_acc:0.9868\n",
      "epoch[4/10], loss:0.0364 val_loss:0.0331 val_acc:0.9890\n",
      "epoch[5/10], loss:0.0314 val_loss:0.0358 val_acc:0.9882\n",
      "epoch[6/10], loss:0.0262 val_loss:0.0311 val_acc:0.9898\n",
      "epoch[7/10], loss:0.0236 val_loss:0.0327 val_acc:0.9890\n",
      "epoch[8/10], loss:0.0207 val_loss:0.0294 val_acc:0.9902\n",
      "epoch[9/10], loss:0.0172 val_loss:0.0312 val_acc:0.9902\n",
      "epoch[10/10], loss:0.0165 val_loss:0.0288 val_acc:0.9912\n"
     ]
    }
   ],
   "source": [
    "# 学習の実行と、モデルの保存（学習ログは.npyで、モデル状態は.pthで）\n",
    "DIRNAME = './mnist_result/'\n",
    "loss_list = []\n",
    "val_loss_list = []\n",
    "val_acc_list = []\n",
    "for epoch in range(n_epochs):\n",
    "    loss = train(mnist_train_loader)\n",
    "    val_loss, val_acc = valid(mnist_valid_loader)\n",
    "    loss_list.append(loss)\n",
    "    val_loss_list.append(val_loss)\n",
    "    val_acc_list.append(val_acc)\n",
    "    print('epoch[%d/%d], loss:%1.4f val_loss:%1.4f val_acc:%1.4f' % (epoch + 1, n_epochs, loss, val_loss, val_acc))\n",
    "\n",
    "if not os.path.exists(DIRNAME):\n",
    "    os.mkdir(DIRNAME)\n",
    "np.save(DIRNAME + 'loss_list.npy', np.array(loss_list))\n",
    "np.save(DIRNAME + 'val_loss_list.npy', np.array(val_loss_list))\n",
    "np.save(DIRNAME + 'val_acc_list.npy', np.array(val_acc_list))\n",
    "torch.save(net.state_dict(), DIRNAME + 'CNN_MNIST.pth')"
   ]
  },
  {
   "cell_type": "code",
   "execution_count": 35,
   "metadata": {},
   "outputs": [],
   "source": [
    "# 学習ログの読み込み\n",
    "loss_list = np.load(DIRNAME + 'loss_list.npy')\n",
    "val_loss_list = np.load(DIRNAME + 'val_loss_list.npy')\n",
    "val_acc_list = np.load(DIRNAME + 'val_acc_list.npy')"
   ]
  },
  {
   "cell_type": "code",
   "execution_count": 36,
   "metadata": {},
   "outputs": [
    {
     "data": {
      "image/png": "[encoded data removed]",
      "text/plain": [
       "<Figure size 576x360 with 1 Axes>"
      ]
     },
     "metadata": {},
     "output_type": "display_data"
    },
    {
     "data": {
      "image/png": "[encoded data removed]",
      "text/plain": [
       "<Figure size 576x360 with 1 Axes>"
      ]
     },
     "metadata": {},
     "output_type": "display_data"
    }
   ],
   "source": [
    "# 学習ログ(lossとaccuracy)の表示\n",
    "plt.figure(figsize=(8,5))\n",
    "plt.plot(loss_list, label = 'train_loss')\n",
    "plt.plot(val_loss_list, label = 'validation_loss')\n",
    "plt.title('loss')\n",
    "plt.xlabel('epoch')\n",
    "plt.ylabel('loss')\n",
    "plt.legend()\n",
    "plt.show()\n",
    "\n",
    "plt.figure(figsize=(8,5))\n",
    "plt.plot(val_acc_list, 'g-',label='validation_accuracy')\n",
    "plt.title('accuracy')\n",
    "plt.xlabel('epoch')\n",
    "plt.ylabel('accuracy')\n",
    "plt.legend()\n",
    "plt.show()"
   ]
  },
  {
   "cell_type": "code",
   "execution_count": 37,
   "metadata": {},
   "outputs": [],
   "source": [
    "# モデルの重みの読み込み\n",
    "if use_gpu:\n",
    "    params = torch.load(DIRNAME + 'CNN_MNIST.pth')\n",
    "else:\n",
    "    params = torch.load(DIRNAME + 'CNN_MNIST.pth', map_location = 'cpu')\n",
    "net = CNN_MNIST()\n",
    "net.load_state_dict(params)"
   ]
  },
  {
   "cell_type": "code",
   "execution_count": 51,
   "metadata": {},
   "outputs": [
    {
     "name": "stdout",
     "output_type": "stream",
     "text": [
      "tensor(0.9912)\n"
     ]
    }
   ],
   "source": [
    "# 読み込んだ学習済みモデルを使って推論のテスト\n",
    "# 本当はハイパーパラメータの調整のために用いたvalidationデータは学習において使用されているに等しいので、\n",
    "# テストデータとして用いるべきではないが、今回は簡単のためひとまず同じものでテスト\n",
    "mnist_test = datasets.MNIST(root = './data',\n",
    "                            train = False,\n",
    "                            transform = tf)\n",
    "mnist_test_loader = DataLoader(mnist_test, batch_size = len(mnist_test), shuffle = False)\n",
    "inputs, targets = iter(mnist_test_loader).next()\n",
    "if use_gpu:\n",
    "    inputs = inputs.cuda()\n",
    "outputs = net(inputs)\n",
    "_, preds = torch.max(outputs, 1)\n",
    "preds = preds.cpu()\n",
    "accuracy = (preds == targets).float().sum() / targets.size(0)\n",
    "print(accuracy)"
   ]
  },
  {
   "cell_type": "code",
   "execution_count": 58,
   "metadata": {},
   "outputs": [
    {
     "name": "stdout",
     "output_type": "stream",
     "text": [
      "tensor([[9, 6, 6, 5, 4],\n",
      "        [0, 7, 4, 0, 1],\n",
      "        [3, 1, 3, 4, 7],\n",
      "        [2, 7, 1, 2, 1],\n",
      "        [1, 7, 4, 2, 3]])\n"
     ]
    },
    {
     "data": {
      "image/png": "[encoded data removed]",
      "text/plain": [
       "<Figure size 432x288 with 1 Axes>"
      ]
     },
     "metadata": {},
     "output_type": "display_data"
    }
   ],
   "source": [
    "# 推論結果の可視化\n",
    "s = 20\n",
    "images, labels = inputs.cpu()[s:s + n_show], preds[s:s + n_show]\n",
    "imshow(make_grid(images, nrow = n_row, padding = 1))\n",
    "plt.axis('off')\n",
    "print(labels.view(-1, n_row))"
   ]
  },
  {
   "cell_type": "code",
   "execution_count": null,
   "metadata": {},
   "outputs": [],
   "source": []
  }
 ],
 "metadata": {
  "kernelspec": {
   "display_name": "Python 3",
   "language": "python",
   "name": "python3"
  },
  "language_info": {
   "codemirror_mode": {
    "name": "ipython",
    "version": 3
   },
   "file_extension": ".py",
   "mimetype": "text/x-python",
   "name": "python",
   "nbconvert_exporter": "python",
   "pygments_lexer": "ipython3",
   "version": "3.6.5"
  }
 },
 "nbformat": 4,
 "nbformat_minor": 2
}
