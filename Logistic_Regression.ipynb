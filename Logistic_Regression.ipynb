{
 "cells": [
  {
   "cell_type": "code",
   "execution_count": 78,
   "metadata": {},
   "outputs": [],
   "source": [
    "import numpy as np\n",
    "import matplotlib.pyplot as plt\n",
    "\n",
    "from sklearn.datasets import load_iris, fetch_mldata\n",
    "from sklearn.model_selection import train_test_split\n",
    "from sklearn.preprocessing import StandardScaler\n",
    "\n",
    "import torch\n",
    "from torch import nn, optim, Tensor, LongTensor\n",
    "from torch.autograd import Variable as V\n",
    "from torch.nn import functional as F\n",
    "from torch.utils.data import TensorDataset, DataLoader"
   ]
  },
  {
   "cell_type": "code",
   "execution_count": 6,
   "metadata": {},
   "outputs": [],
   "source": [
    "# irisデータセットのロジスティック回帰のハイパーパラメータ\n",
    "input_size = 4\n",
    "n_classes = 3\n",
    "n_epochs = 1000\n",
    "# batch_size = 64\n",
    "learning_rate = 0.01"
   ]
  },
  {
   "cell_type": "code",
   "execution_count": 8,
   "metadata": {},
   "outputs": [
    {
     "name": "stdout",
     "output_type": "stream",
     "text": [
      "(150, 4)\n",
      "(150,)\n"
     ]
    }
   ],
   "source": [
    "# irisデータセットをロード\n",
    "iris = load_iris()\n",
    "X = iris.data\n",
    "Y = iris.target\n",
    "print(X.shape)\n",
    "print(Y.shape)"
   ]
  },
  {
   "cell_type": "code",
   "execution_count": 13,
   "metadata": {},
   "outputs": [
    {
     "name": "stdout",
     "output_type": "stream",
     "text": [
      "(100, 4)\n",
      "(50, 4)\n",
      "(100,)\n",
      "(50,)\n"
     ]
    }
   ],
   "source": [
    "# trainデータとvalidationデータに分割、2;1\n",
    "X_train, X_test, Y_train, Y_test = train_test_split(X, Y, test_size = 0.33, random_state = 0)\n",
    "print(X_train.shape)\n",
    "print(X_test.shape)\n",
    "print(Y_train.shape)\n",
    "print(Y_test.shape)"
   ]
  },
  {
   "cell_type": "code",
   "execution_count": 57,
   "metadata": {},
   "outputs": [
    {
     "name": "stdout",
     "output_type": "stream",
     "text": [
      "[ 5.55111512e-19  2.22044605e-18 -1.77635684e-17 -1.66533454e-17]\n",
      "[1. 1. 1. 1.]\n",
      "[-0.12157058 -0.09181911 -0.01051334 -0.01279953]\n",
      "[0.79240762 1.04871345 0.91674578 0.91830391]\n"
     ]
    }
   ],
   "source": [
    "# データの正規化、平均0, 標準偏差1にする\n",
    "scaler = StandardScaler()\n",
    "X_train = scaler.fit_transform(X_train)\n",
    "X_test = scaler.transform(X_test)\n",
    "print(np.mean(X_train, axis = 0))\n",
    "print(np.std(X_train, axis = 0))\n",
    "print(np.mean(X_test, axis = 0))\n",
    "print(np.std(X_test, axis = 0))"
   ]
  },
  {
   "cell_type": "code",
   "execution_count": 58,
   "metadata": {},
   "outputs": [],
   "source": [
    "class LogisticRegression(nn.Module):\n",
    "    def __init__(self, input_size, n_classes):\n",
    "        super(LogisticRegression, self).__init__()\n",
    "        self.linear = nn.Linear(input_size, n_classes)\n",
    "    \n",
    "    def forward(self, x):\n",
    "        out = self.linear(x)\n",
    "        return out"
   ]
  },
  {
   "cell_type": "code",
   "execution_count": 71,
   "metadata": {},
   "outputs": [],
   "source": [
    "net = LogisticRegression(input_size, n_classes)\n",
    "loss_fn = nn.CrossEntropyLoss()\n",
    "optimizer = optim.Adam(net.parameters(), lr = learning_rate)"
   ]
  },
  {
   "cell_type": "code",
   "execution_count": 72,
   "metadata": {},
   "outputs": [],
   "source": [
    "def train(X_train, Y_train):\n",
    "    X_train = V(Tensor(X_train))\n",
    "    Y_train = V(LongTensor(Y_train))\n",
    "    \n",
    "    Y_pred = net(X_train)\n",
    "    loss = loss_fn(Y_pred, Y_train)\n",
    "    \n",
    "    optimizer.zero_grad()\n",
    "    loss.backward()\n",
    "    optimizer.step()\n",
    "    \n",
    "    return loss.data"
   ]
  },
  {
   "cell_type": "code",
   "execution_count": 73,
   "metadata": {},
   "outputs": [],
   "source": [
    "def valid(X_test, Y_test):\n",
    "    X_test = V(Tensor(X_test))\n",
    "    Y_test = V(LongTensor(Y_test))\n",
    "    \n",
    "    Y_pred = net(X_test)\n",
    "    loss = loss_fn(Y_pred, Y_test)\n",
    "    \n",
    "    _, predicted = torch.max(Y_pred.data, dim = 1)\n",
    "    correct = (predicted == Y_test.data).float().sum()\n",
    "    val_acc = correct / Y_test.size()[0]\n",
    "    \n",
    "    return loss.data, val_acc"
   ]
  },
  {
   "cell_type": "code",
   "execution_count": 74,
   "metadata": {},
   "outputs": [
    {
     "name": "stdout",
     "output_type": "stream",
     "text": [
      "epoch[50/1000] loss:0.4618 val_loss:0.4867 val_acc:0.8600\n",
      "epoch[100/1000] loss:0.3589 val_loss:0.3861 val_acc:0.8600\n",
      "epoch[150/1000] loss:0.2999 val_loss:0.3270 val_acc:0.9000\n",
      "epoch[200/1000] loss:0.2560 val_loss:0.2831 val_acc:0.9400\n",
      "epoch[250/1000] loss:0.2223 val_loss:0.2494 val_acc:0.9600\n",
      "epoch[300/1000] loss:0.1961 val_loss:0.2231 val_acc:0.9600\n",
      "epoch[350/1000] loss:0.1756 val_loss:0.2023 val_acc:0.9600\n",
      "epoch[400/1000] loss:0.1593 val_loss:0.1854 val_acc:0.9400\n",
      "epoch[450/1000] loss:0.1461 val_loss:0.1714 val_acc:0.9400\n",
      "epoch[500/1000] loss:0.1352 val_loss:0.1598 val_acc:0.9400\n",
      "epoch[550/1000] loss:0.1262 val_loss:0.1499 val_acc:0.9400\n",
      "epoch[600/1000] loss:0.1185 val_loss:0.1413 val_acc:0.9600\n",
      "epoch[650/1000] loss:0.1120 val_loss:0.1339 val_acc:0.9600\n",
      "epoch[700/1000] loss:0.1063 val_loss:0.1274 val_acc:0.9600\n",
      "epoch[750/1000] loss:0.1014 val_loss:0.1216 val_acc:0.9600\n",
      "epoch[800/1000] loss:0.0970 val_loss:0.1164 val_acc:0.9600\n",
      "epoch[850/1000] loss:0.0932 val_loss:0.1118 val_acc:0.9600\n",
      "epoch[900/1000] loss:0.0897 val_loss:0.1076 val_acc:0.9800\n",
      "epoch[950/1000] loss:0.0866 val_loss:0.1038 val_acc:0.9800\n",
      "epoch[1000/1000] loss:0.0838 val_loss:0.1003 val_acc:0.9800\n"
     ]
    }
   ],
   "source": [
    "losses = []\n",
    "val_losses = []\n",
    "val_acces = []\n",
    "perm = np.arange(X_train.shape[0])\n",
    "for epoch in range(n_epochs):\n",
    "    np.random.shuffle(perm)\n",
    "    X_train = X_train[perm]\n",
    "    Y_train = Y_train[perm]\n",
    "    loss = train(X_train, Y_train)\n",
    "    val_loss, val_acc = valid(X_test, Y_test)\n",
    "    \n",
    "    if (epoch + 1) % 50 == 0:\n",
    "        print('epoch[%d/%d] loss:%1.4f val_loss:%1.4f val_acc:%1.4f' % (epoch+1, n_epochs, loss, val_loss, val_acc))\n",
    "        \n",
    "    losses.append(loss)\n",
    "    val_losses.append(val_loss)\n",
    "    val_acces.append(val_acc)"
   ]
  },
  {
   "cell_type": "code",
   "execution_count": 75,
   "metadata": {},
   "outputs": [
    {
     "data": {
      "image/png": "[encoded data removed]",
      "text/plain": [
       "<matplotlib.figure.Figure at 0x25d6a715400>"
      ]
     },
     "metadata": {},
     "output_type": "display_data"
    },
    {
     "data": {
      "image/png": "[encoded data removed]",
      "text/plain": [
       "<matplotlib.figure.Figure at 0x25d6a6a2828>"
      ]
     },
     "metadata": {},
     "output_type": "display_data"
    }
   ],
   "source": [
    "%matplotlib inline\n",
    "plt.plot(range(n_epochs), losses, 'r-', label = 'train_loss')\n",
    "plt.plot(range(n_epochs), val_losses, 'b-', label = 'validation_loss')\n",
    "plt.title('loss')\n",
    "plt.legend()\n",
    "plt.show()\n",
    "\n",
    "plt.plot(range(n_epochs), val_acces, 'g-', label = 'validation_accuracy')\n",
    "plt.title('accuracy')\n",
    "plt.legend()\n",
    "plt.show()"
   ]
  },
  {
   "cell_type": "code",
   "execution_count": 109,
   "metadata": {},
   "outputs": [],
   "source": [
    "# mnistデータセットのロジスティック回帰のハイパーパラメータ\n",
    "input_size = 784\n",
    "n_classes = 10\n",
    "n_epochs = 10\n",
    "batch_size = 64\n",
    "learning_rate = 0.01"
   ]
  },
  {
   "cell_type": "code",
   "execution_count": 110,
   "metadata": {},
   "outputs": [
    {
     "name": "stdout",
     "output_type": "stream",
     "text": [
      "(70000, 784)\n",
      "(70000,)\n"
     ]
    }
   ],
   "source": [
    "# mnistデータセットをロード\n",
    "mnist = fetch_mldata('MNIST original')\n",
    "X = mnist.data\n",
    "Y = mnist.target\n",
    "print(X.shape)\n",
    "print(Y.shape)"
   ]
  },
  {
   "cell_type": "code",
   "execution_count": 111,
   "metadata": {},
   "outputs": [
    {
     "name": "stdout",
     "output_type": "stream",
     "text": [
      "(60000, 784)\n",
      "(10000, 784)\n",
      "(60000,)\n",
      "(10000,)\n"
     ]
    }
   ],
   "source": [
    "# trainデータとvalidationデータに分割、6;1\n",
    "X_train, X_test, Y_train, Y_test = train_test_split(X, Y, test_size = 1/7, random_state = 0)\n",
    "print(X_train.shape)\n",
    "print(X_test.shape)\n",
    "print(Y_train.shape)\n",
    "print(Y_test.shape)"
   ]
  },
  {
   "cell_type": "code",
   "execution_count": 117,
   "metadata": {},
   "outputs": [],
   "source": [
    "# データの正規化、平均0, 標準偏差1にする\n",
    "scaler = StandardScaler()\n",
    "X_train = X_train.astype(np.float32)\n",
    "X_test = X_test.astype(np.float32)\n",
    "X_train = scaler.fit_transform(X_train)\n",
    "X_test = scaler.transform(X_test)"
   ]
  },
  {
   "cell_type": "code",
   "execution_count": 118,
   "metadata": {},
   "outputs": [],
   "source": [
    "ds_train = TensorDataset(Tensor(X_train), LongTensor(Y_train))\n",
    "ds_test = TensorDataset(Tensor(X_test), LongTensor(Y_test))\n",
    "train_loader = DataLoader(ds_train, batch_size = batch_size, shuffle = True)\n",
    "test_loader = DataLoader(ds_test, batch_size = batch_size, shuffle = False)"
   ]
  },
  {
   "cell_type": "code",
   "execution_count": 119,
   "metadata": {},
   "outputs": [],
   "source": [
    "net = LogisticRegression(input_size, n_classes)\n",
    "loss_fn = nn.CrossEntropyLoss()\n",
    "optimizer = optim.Adam(net.parameters(), lr = learning_rate)"
   ]
  },
  {
   "cell_type": "code",
   "execution_count": 120,
   "metadata": {},
   "outputs": [
    {
     "name": "stdout",
     "output_type": "stream",
     "text": [
      "epoch[1/10] loss:0.7142 val_loss:0.6793 val_acc:0.9006\n",
      "epoch[2/10] loss:0.6583 val_loss:0.6749 val_acc:0.8973\n",
      "epoch[3/10] loss:0.5894 val_loss:0.7033 val_acc:0.9032\n",
      "epoch[4/10] loss:0.5549 val_loss:0.7292 val_acc:0.9005\n",
      "epoch[5/10] loss:0.5205 val_loss:0.7207 val_acc:0.8994\n",
      "epoch[6/10] loss:0.5248 val_loss:0.7348 val_acc:0.9009\n",
      "epoch[7/10] loss:0.5113 val_loss:0.7427 val_acc:0.9019\n",
      "epoch[8/10] loss:0.5213 val_loss:0.7674 val_acc:0.9029\n",
      "epoch[9/10] loss:0.5165 val_loss:0.7915 val_acc:0.9005\n",
      "epoch[10/10] loss:0.5211 val_loss:0.8166 val_acc:0.9025\n"
     ]
    }
   ],
   "source": [
    "losses = []\n",
    "val_losses = []\n",
    "val_acces = []\n",
    "for epoch in range(n_epochs):\n",
    "    running_loss = 0\n",
    "    for i, (x, y) in enumerate(train_loader):\n",
    "        running_loss += train(x, y)\n",
    "    loss = running_loss / i\n",
    "    \n",
    "    running_loss = 0\n",
    "    running_acc = 0\n",
    "    for i, (x, y) in enumerate(test_loader):\n",
    "        loss_temp, acc_temp = valid(x, y)\n",
    "        running_loss += loss_temp\n",
    "        running_acc += acc_temp\n",
    "    val_loss = running_loss / i\n",
    "    val_acc = running_acc /i\n",
    "    # val_loss, val_acc = valid(X_test, Y_test)\n",
    "    \n",
    "    # if (epoch + 1) % 1 == 0:\n",
    "    print('epoch[%d/%d] loss:%1.4f val_loss:%1.4f val_acc:%1.4f' % (epoch+1, n_epochs, loss, val_loss, val_acc))\n",
    "        \n",
    "    losses.append(loss)\n",
    "    val_losses.append(val_loss)\n",
    "    val_acces.append(val_acc)"
   ]
  },
  {
   "cell_type": "code",
   "execution_count": 121,
   "metadata": {},
   "outputs": [
    {
     "data": {
      "image/png": "[encoded data removed]",
      "text/plain": [
       "<matplotlib.figure.Figure at 0x25d682852e8>"
      ]
     },
     "metadata": {},
     "output_type": "display_data"
    },
    {
     "data": {
      "image/png": "[encoded data removed]",
      "text/plain": [
       "<matplotlib.figure.Figure at 0x25d6a483860>"
      ]
     },
     "metadata": {},
     "output_type": "display_data"
    }
   ],
   "source": [
    "%matplotlib inline\n",
    "plt.plot(range(n_epochs), losses, 'r-', label = 'train_loss')\n",
    "plt.plot(range(n_epochs), val_losses, 'b-', label = 'validation_loss')\n",
    "plt.title('loss')\n",
    "plt.legend()\n",
    "plt.show()\n",
    "\n",
    "plt.plot(range(n_epochs), val_acces, 'g-', label = 'validation_accuracy')\n",
    "plt.title('accuracy')\n",
    "plt.legend()\n",
    "plt.show()"
   ]
  },
  {
   "cell_type": "code",
   "execution_count": null,
   "metadata": {},
   "outputs": [],
   "source": []
  }
 ],
 "metadata": {
  "kernelspec": {
   "display_name": "Python 3",
   "language": "python",
   "name": "python3"
  },
  "language_info": {
   "codemirror_mode": {
    "name": "ipython",
    "version": 3
   },
   "file_extension": ".py",
   "mimetype": "text/x-python",
   "name": "python",
   "nbconvert_exporter": "python",
   "pygments_lexer": "ipython3",
   "version": "3.6.4"
  }
 },
 "nbformat": 4,
 "nbformat_minor": 2
}
